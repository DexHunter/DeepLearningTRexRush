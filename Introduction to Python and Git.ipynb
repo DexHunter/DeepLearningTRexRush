{
 "cells": [
  {
   "cell_type": "markdown",
   "metadata": {},
   "source": [
    "# What is Python?\n",
    "Python is a high-level, dynamically typed multiparadigm programming language.\n",
    "\n",
    "The most important thing is that Python is **easy** and **elegant**.\n",
    "\n",
    "### Let's get started"
   ]
  },
  {
   "cell_type": "code",
   "execution_count": 6,
   "metadata": {
    "collapsed": false
   },
   "outputs": [
    {
     "name": "stdout",
     "output_type": "stream",
     "text": [
      "[2, 2, 3, 4, 5, 7, 10, 99]\n",
      "The time used is 0.000357866287231\n"
     ]
    }
   ],
   "source": [
    "from time import time\n",
    "def quicksort(arr):\n",
    "    if len(arr) <= 1:\n",
    "        return arr\n",
    "    pivot = arr[len(arr) // 2]\n",
    "    left = [x for x in arr if x < pivot]\n",
    "    middle = [x for x in arr if x == pivot]\n",
    "    right = [x for x in arr if x > pivot]\n",
    "    return quicksort(left) + middle + quicksort(right)\n",
    "\n",
    "st = time()\n",
    "print(quicksort([3,2,5,7,99,2,4,10]))\n",
    "print(\"The time used is %s\" % (time() - st))"
   ]
  },
  {
   "cell_type": "code",
   "execution_count": 11,
   "metadata": {
    "collapsed": false
   },
   "outputs": [
    {
     "data": {
      "text/plain": [
       "sys.version_info(major=2, minor=7, micro=12, releaselevel='final', serial=0)"
      ]
     },
     "execution_count": 11,
     "metadata": {},
     "output_type": "execute_result"
    }
   ],
   "source": [
    "import sys\n",
    "sys.version #get python version\n",
    "#sys.version_info"
   ]
  },
  {
   "cell_type": "code",
   "execution_count": 12,
   "metadata": {
    "collapsed": false
   },
   "outputs": [
    {
     "name": "stderr",
     "output_type": "stream",
     "text": [
      "Python 2.7.12\n"
     ]
    }
   ],
   "source": [
    "%%bash\n",
    "python --version"
   ]
  },
  {
   "cell_type": "markdown",
   "metadata": {},
   "source": [
    "learn more tricks [there](https://blog.dominodatalab.com/lesser-known-ways-of-using-notebooks/)"
   ]
  },
  {
   "cell_type": "markdown",
   "metadata": {},
   "source": [
    "## Basic data types\n",
    "\n",
    "* Numbers: int/float/\n",
    "* Booleans: True/False\n",
    "* Strings\n",
    "\n",
    "### Containers\n",
    "* Lists\n",
    "* Dictionaries\n",
    "* Functions\n",
    "* Classes"
   ]
  },
  {
   "cell_type": "code",
   "execution_count": 13,
   "metadata": {
    "collapsed": false
   },
   "outputs": [
    {
     "name": "stdout",
     "output_type": "stream",
     "text": [
      "<type 'int'>\n",
      "3\n",
      "4\n",
      "2\n",
      "6\n",
      "1\n",
      "1.5\n",
      "9\n",
      "4\n",
      "8\n",
      "<type 'float'>\n",
      "(3.5, 4.5, 7.0, 12.25)\n"
     ]
    }
   ],
   "source": [
    "# Numbers\n",
    "x = 3\n",
    "print(type(x))\n",
    "print(x)\n",
    "print(x+1)\n",
    "print(x-1)\n",
    "print(x*2)\n",
    "print(x/2)\n",
    "print(x/2.)\n",
    "print(x**2)\n",
    "\n",
    "x += 1\n",
    "print(x)\n",
    "x *=2\n",
    "print(x)\n",
    "\n",
    "y = 3.5\n",
    "print(type(y))\n",
    "print(y, y+1, y*2, y**2)"
   ]
  },
  {
   "cell_type": "code",
   "execution_count": 14,
   "metadata": {
    "collapsed": false
   },
   "outputs": [
    {
     "name": "stdout",
     "output_type": "stream",
     "text": [
      "<type 'bool'>\n",
      "False\n",
      "True\n",
      "False\n",
      "True\n"
     ]
    }
   ],
   "source": [
    "# Booleans\n",
    "t = True\n",
    "f = False\n",
    "print(type(t))\n",
    "print(t and f)\n",
    "print(t or f)\n",
    "print(not t)\n",
    "print(t != f) #XOR return true only when two inputs do not equal"
   ]
  },
  {
   "cell_type": "code",
   "execution_count": 15,
   "metadata": {
    "collapsed": false
   },
   "outputs": [
    {
     "name": "stdout",
     "output_type": "stream",
     "text": [
      "hello\n",
      "5\n",
      "hello world\n",
      "hello world 13\n"
     ]
    }
   ],
   "source": [
    "# Strings\n",
    "h = 'hello'\n",
    "w = 'world'\n",
    "print(h)\n",
    "print(len(h))\n",
    "hw = h + ' ' + w\n",
    "print(hw)\n",
    "hw13 = '%s %s %d' % (h, w, 13)\n",
    "print(hw13)"
   ]
  },
  {
   "cell_type": "code",
   "execution_count": 18,
   "metadata": {
    "collapsed": false
   },
   "outputs": [
    {
     "name": "stdout",
     "output_type": "stream",
     "text": [
      "([3, 1, 2], 2)\n",
      "2\n",
      "[3, 1, 'super duple easy']\n",
      "[3, 1, 'super duple easy', 'something']\n",
      "('something', [3, 1, 'super duple easy'])\n"
     ]
    }
   ],
   "source": [
    "# Lists\n",
    "l = [3, 1, 2]\n",
    "print(l, l[2])\n",
    "print(l[-1])\n",
    "l[2] = 'super duple easy'\n",
    "print(l)\n",
    "l.append('something')\n",
    "print(l)\n",
    "lp = l.pop() #remove and return the last element of the lsit\n",
    "print(lp, l)"
   ]
  },
  {
   "cell_type": "code",
   "execution_count": 20,
   "metadata": {
    "collapsed": false
   },
   "outputs": [
    {
     "name": "stdout",
     "output_type": "stream",
     "text": [
      "[0, 1, 2, 3, 4, 5, 6, 7, 8, 9]\n",
      "[3, 4, 5]\n",
      "[5, 6, 7, 8, 9]\n",
      "[0, 1]\n",
      "[0, 1, 2, 3, 4, 5, 6, 7, 8, 9]\n",
      "[0, 1, 2, 3, 4, 5, 6, 7, 8]\n",
      "[0, 1, 11, 12, 4, 5, 6, 7, 8, 9]\n"
     ]
    }
   ],
   "source": [
    "# Slicing\n",
    "nums = list(range(10))\n",
    "print(nums)\n",
    "print(nums[3:6])\n",
    "print(nums[5:])\n",
    "print(nums[:2])\n",
    "print(nums[:])\n",
    "print(nums[:-1])\n",
    "nums[2:4] = [11, 12]\n",
    "print(nums)"
   ]
  },
  {
   "cell_type": "code",
   "execution_count": 21,
   "metadata": {
    "collapsed": false
   },
   "outputs": [
    {
     "name": "stdout",
     "output_type": "stream",
     "text": [
      "0\n",
      "1\n",
      "2\n",
      "3\n",
      "4\n",
      "#1: cat\n",
      "#2: dog\n",
      "#3: monkey\n"
     ]
    }
   ],
   "source": [
    "for i in range(5):\n",
    "    print(i)\n",
    "    \n",
    "animals = ['cat', 'dog', 'monkey']\n",
    "for idx, animal in enumerate(animals):\n",
    "    print('#%d: %s' % (idx+1, animal))"
   ]
  },
  {
   "cell_type": "code",
   "execution_count": 23,
   "metadata": {
    "collapsed": false
   },
   "outputs": [
    {
     "name": "stdout",
     "output_type": "stream",
     "text": [
      "[0, 1, 4, 9, 16]\n",
      "[0, 1, 4, 9, 16]\n"
     ]
    }
   ],
   "source": [
    "nums = list(range(5))\n",
    "squares = []\n",
    "for i in nums:\n",
    "    squares.append(i**2)\n",
    "print(squares)\n",
    "\n",
    "\"\"\"----------or------------\"\"\"\n",
    "\n",
    "s2 = [i**2 for i in nums] #list comprehension\n",
    "print(s2)"
   ]
  },
  {
   "cell_type": "code",
   "execution_count": 24,
   "metadata": {
    "collapsed": false
   },
   "outputs": [
    {
     "name": "stdout",
     "output_type": "stream",
     "text": [
      "negative\n",
      "zero\n",
      "positive\n"
     ]
    }
   ],
   "source": [
    "def sign(x):\n",
    "    if x > 0:\n",
    "        return 'positive'\n",
    "    elif x < 0:\n",
    "        return 'negative'\n",
    "    else:\n",
    "        return 'zero'\n",
    "    \n",
    "for x in [-1, 0, 1]:\n",
    "    print(sign(x))"
   ]
  },
  {
   "cell_type": "code",
   "execution_count": 26,
   "metadata": {
    "collapsed": false
   },
   "outputs": [
    {
     "name": "stdout",
     "output_type": "stream",
     "text": [
      "Hello, Dex\n",
      "HELLO, DEX!\n"
     ]
    }
   ],
   "source": [
    "class Greeter(object):\n",
    "\n",
    "    # Constructor\n",
    "    def __init__(self, name):\n",
    "        self.name = name  # Create an instance variable\n",
    "\n",
    "    # Instance method\n",
    "    def greet(self, loud=False):\n",
    "        if loud:\n",
    "            print('HELLO, %s!' % self.name.upper())\n",
    "        else:\n",
    "            print('Hello, %s' % self.name)\n",
    "\n",
    "g = Greeter('Dex')  # Construct an instance of the Greeter class\n",
    "g.greet()            # Call an instance method; prints \"Hello, Dex\"\n",
    "g.greet(loud=True)   # Call an instance method; prints \"HELLO, DEX!\""
   ]
  },
  {
   "cell_type": "markdown",
   "metadata": {},
   "source": [
    "# What is Git?\n",
    "> Git is a distributed revision control and source code management system with an emphasis on speed. Git was initially designed and developed by Linus Torvalds for Linux kernel development. Git is a free software distributed under the terms of the GNU General Public License version 2.\n",
    "\n",
    "\n",
    "## Basic Usage\n",
    "\n",
    "* `git init`\n",
    "* `git add <file>`\n",
    "* `git commit -m <msg>`\n",
    "* `git push <remote> <branch>`\n",
    "* `git pull <remote> <branch>`\n",
    "* `git status`\n",
    "* `git clone <url>`\n",
    "* ..."
   ]
  },
  {
   "cell_type": "code",
   "execution_count": null,
   "metadata": {
    "collapsed": true
   },
   "outputs": [],
   "source": []
  }
 ],
 "metadata": {
  "kernelspec": {
   "display_name": "Python 2",
   "language": "python",
   "name": "python2"
  },
  "language_info": {
   "codemirror_mode": {
    "name": "ipython",
    "version": 2
   },
   "file_extension": ".py",
   "mimetype": "text/x-python",
   "name": "python",
   "nbconvert_exporter": "python",
   "pygments_lexer": "ipython2",
   "version": "2.7.12"
  }
 },
 "nbformat": 4,
 "nbformat_minor": 0
}
